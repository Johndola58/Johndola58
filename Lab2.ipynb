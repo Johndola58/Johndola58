{
  "nbformat": 4,
  "nbformat_minor": 0,
  "metadata": {
    "colab": {
      "provenance": [],
      "authorship_tag": "ABX9TyMueuIHg341L9fpqsQTXRrJ",
      "include_colab_link": true
    },
    "kernelspec": {
      "name": "python3",
      "display_name": "Python 3"
    },
    "language_info": {
      "name": "python"
    }
  },
  "cells": [
    {
      "cell_type": "markdown",
      "metadata": {
        "id": "view-in-github",
        "colab_type": "text"
      },
      "source": [
        "<a href=\"https://colab.research.google.com/github/Johndola58/Johndola58/blob/main/Lab2.ipynb\" target=\"_parent\"><img src=\"https://colab.research.google.com/assets/colab-badge.svg\" alt=\"Open In Colab\"/></a>"
      ]
    },
    {
      "cell_type": "markdown",
      "source": [
        "CORRELATION BETWEEN 2 CONTINIOUS VARIABLE (PEARSON )"
      ],
      "metadata": {
        "id": "eV1b5LQAE7Pz"
      }
    },
    {
      "cell_type": "code",
      "execution_count": 1,
      "metadata": {
        "id": "mF_pMt9yEpVW"
      },
      "outputs": [],
      "source": [
        "import pandas as pd\n",
        "import seaborn as sns\n",
        "from scipy.stats import pearsonr"
      ]
    },
    {
      "cell_type": "markdown",
      "source": [
        "Create a dataframe with two variable"
      ],
      "metadata": {
        "id": "uf4Rt_dNFNGF"
      }
    },
    {
      "cell_type": "code",
      "source": [
        "data = {'X': [1.2, 2.1, 3.5, 4.7, 5.3], 'Y': [5.6, 4.1, 3.2, 2.8, 1.4]}\n",
        "df = pd.DataFrame(data)"
      ],
      "metadata": {
        "id": "m777ttZcFH7c"
      },
      "execution_count": 2,
      "outputs": []
    },
    {
      "cell_type": "markdown",
      "source": [
        "DISPLAY SCATTLED PLOT\n"
      ],
      "metadata": {
        "id": "ITTZFTqLFgH3"
      }
    },
    {
      "cell_type": "code",
      "source": [
        "sns.scatterplot(x='X', y='Y', data=df)"
      ],
      "metadata": {
        "colab": {
          "base_uri": "https://localhost:8080/",
          "height": 296
        },
        "id": "XiLhXoafFlJO",
        "outputId": "f82d2235-4cef-4ef0-cc08-3393e18eac32"
      },
      "execution_count": 3,
      "outputs": [
        {
          "output_type": "execute_result",
          "data": {
            "text/plain": [
              "<AxesSubplot:xlabel='X', ylabel='Y'>"
            ]
          },
          "metadata": {},
          "execution_count": 3
        },
        {
          "output_type": "display_data",
          "data": {
            "text/plain": [
              "<Figure size 432x288 with 1 Axes>"
            ],
            "image/png": "[encoded data removed]"
          },
          "metadata": {
            "needs_background": "light"
          }
        }
      ]
    },
    {
      "cell_type": "markdown",
      "source": [
        "Compute the Pearson correlation coefficient and print the correlation and the p-value"
      ],
      "metadata": {
        "id": "YI86Lh6PF8EC"
      }
    },
    {
      "cell_type": "code",
      "source": [
        "pearson_corr, pearson_p = pearsonr(df['X'], df['Y'])\n",
        "print('Pearson correlation coefficient:', pearson_corr)\n",
        "print('Pearson correlation p-value:', pearson_p)\n",
        "     "
      ],
      "metadata": {
        "colab": {
          "base_uri": "https://localhost:8080/"
        },
        "id": "hFNAH91tF2yy",
        "outputId": "3009f322-bc80-4b96-ae26-daa3922b269b"
      },
      "execution_count": 4,
      "outputs": [
        {
          "output_type": "stream",
          "name": "stdout",
          "text": [
            "Pearson correlation coefficient: -0.9643431782040317\n",
            "Pearson correlation p-value: 0.008039170656932094\n"
          ]
        }
      ]
    },
    {
      "cell_type": "markdown",
      "source": [
        "Correlation between Two Ordinal Variables"
      ],
      "metadata": {
        "id": "Y-Fhjlw1JOLH"
      }
    },
    {
      "cell_type": "code",
      "source": [
        "import pandas as pd\n",
        "import seaborn as sns\n",
        "from scipy.stats import spearmanr, kendalltau"
      ],
      "metadata": {
        "id": "28VCWn19JPKn"
      },
      "execution_count": 5,
      "outputs": []
    },
    {
      "cell_type": "markdown",
      "source": [
        "dataset"
      ],
      "metadata": {
        "id": "qYHbOXgkJXFn"
      }
    },
    {
      "cell_type": "code",
      "source": [
        "data = {'X': [1, 2, 3, 4, 5], 'Y': [5, 4, 3, 2, 1]}\n",
        "df = pd.DataFrame(data)"
      ],
      "metadata": {
        "id": "1GlbaI-NJV4P"
      },
      "execution_count": 11,
      "outputs": []
    },
    {
      "cell_type": "markdown",
      "source": [
        "Plot"
      ],
      "metadata": {
        "id": "e56f54VTJbe_"
      }
    },
    {
      "cell_type": "code",
      "source": [
        "sns.scatterplot(x='X', y='Y', data=df)"
      ],
      "metadata": {
        "colab": {
          "base_uri": "https://localhost:8080/",
          "height": 296
        },
        "id": "Gk__WJx6Jca_",
        "outputId": "3db97507-fccc-492c-de93-be6c22245dba"
      },
      "execution_count": 12,
      "outputs": [
        {
          "output_type": "execute_result",
          "data": {
            "text/plain": [
              "<AxesSubplot:xlabel='X', ylabel='Y'>"
            ]
          },
          "metadata": {},
          "execution_count": 12
        },
        {
          "output_type": "display_data",
          "data": {
            "text/plain": [
              "<Figure size 432x288 with 1 Axes>"
            ],
            "image/png": "[encoded data removed]"
          },
          "metadata": {
            "needs_background": "light"
          }
        }
      ]
    },
    {
      "cell_type": "markdown",
      "source": [
        "Compute the Spearman correlation coefficient and print the correlation and the p-value"
      ],
      "metadata": {
        "id": "2BmYkSPyJkYK"
      }
    },
    {
      "cell_type": "code",
      "source": [
        "spearman_corr, spearman_p = spearmanr(df['X'], df['Y'])\n",
        "print('Spearman correlation coefficient:', spearman_corr)\n",
        "print('Spearman correlation p-value:', spearman_p)"
      ],
      "metadata": {
        "colab": {
          "base_uri": "https://localhost:8080/"
        },
        "id": "Kg_iYUWvJlL3",
        "outputId": "805c9458-2954-40a4-df2c-d34c894172e8"
      },
      "execution_count": 13,
      "outputs": [
        {
          "output_type": "stream",
          "name": "stdout",
          "text": [
            "Spearman correlation coefficient: -0.9999999999999999\n",
            "Spearman correlation p-value: 1.4042654220543672e-24\n"
          ]
        }
      ]
    },
    {
      "cell_type": "markdown",
      "source": [
        "Compute the Kendall correlation coefficient and print the correlation and the p-value"
      ],
      "metadata": {
        "id": "BvfXypaAKf4B"
      }
    },
    {
      "cell_type": "code",
      "source": [
        "kendall_corr, kendall_p = kendalltau(df['X'], df['Y'])\n",
        "print('Kendall correlation coefficient:', kendall_corr)\n",
        "print('Kendall correlation p-value:', kendall_p)"
      ],
      "metadata": {
        "id": "LQPDXromKinm",
        "outputId": "7a14a4e4-c016-454c-942c-402f931cd007",
        "colab": {
          "base_uri": "https://localhost:8080/"
        }
      },
      "execution_count": 14,
      "outputs": [
        {
          "output_type": "stream",
          "name": "stdout",
          "text": [
            "Kendall correlation coefficient: -0.9999999999999999\n",
            "Kendall correlation p-value: 0.016666666666666666\n"
          ]
        }
      ]
    },
    {
      "cell_type": "markdown",
      "source": [
        "Correlation between One Continuous Variable and One Categorical Variable (binary) usimg Biserial correlation\n"
      ],
      "metadata": {
        "id": "k0numeYVLy5x"
      }
    },
    {
      "cell_type": "markdown",
      "source": [
        "Import/install necessary packages"
      ],
      "metadata": {
        "id": "Twfx78r6MKRS"
      }
    },
    {
      "cell_type": "code",
      "source": [
        "import pandas as pd\n",
        "from scipy.stats import pointbiserialr"
      ],
      "metadata": {
        "id": "Hon0RLYkL1V3"
      },
      "execution_count": 15,
      "outputs": []
    },
    {
      "cell_type": "markdown",
      "source": [
        "Create a data frame with a continuous and a dichotomous categorical variable"
      ],
      "metadata": {
        "id": "pbjzCHC6MM3G"
      }
    },
    {
      "cell_type": "code",
      "source": [
        "df = pd.DataFrame({\n",
        "    'Continuous_Var': [1, 2, 3, 4, 5, 6, 7, 8, 9, 10],\n",
        "    'Categorical_Var': [0, 0, 1, 1, 1, 0, 1, 0, 0, 1]\n",
        "})"
      ],
      "metadata": {
        "id": "WYXc7O8HMP8L"
      },
      "execution_count": 16,
      "outputs": []
    },
    {
      "cell_type": "markdown",
      "source": [
        "Compute the point-biserial correlation coefficient and p-value"
      ],
      "metadata": {
        "id": "oTQ9kPWmMgJg"
      }
    },
    {
      "cell_type": "code",
      "source": [
        "corr, pval = pointbiserialr(df['Continuous_Var'], df['Categorical_Var'])\n",
        "\n",
        "print('Point-biserial correlation coefficient:', corr)\n",
        "print('P-value:', pval)"
      ],
      "metadata": {
        "id": "FBeR1lVbMg4J",
        "outputId": "42ca931e-ca38-4b0b-d663-14e128503e03",
        "colab": {
          "base_uri": "https://localhost:8080/"
        }
      },
      "execution_count": 18,
      "outputs": [
        {
          "output_type": "stream",
          "name": "stdout",
          "text": [
            "Point-biserial correlation coefficient: 0.10444659357341873\n",
            "P-value: 0.7739992800763527\n",
            "Point-biserial correlation coefficient: 0.10444659357341873\n",
            "P-value: 0.7739992800763527\n"
          ]
        }
      ]
    },
    {
      "cell_type": "markdown",
      "source": [
        "Association Analysis\n",
        "Correlation between two categorical variables"
      ],
      "metadata": {
        "id": "CpjSKNJaPA5G"
      }
    },
    {
      "cell_type": "markdown",
      "source": [
        "When working with two categorical variables, Cramer's V is commonly used. This coefficient measures the strength and direction of the relationship between two categorical variables."
      ],
      "metadata": {
        "id": "MEZfz9UDPDJu"
      }
    },
    {
      "cell_type": "markdown",
      "source": [
        "Import/install necessary packages"
      ],
      "metadata": {
        "id": "kdIqWivMPFrS"
      }
    },
    {
      "cell_type": "code",
      "source": [
        "import pandas as pd\n",
        "import numpy as np\n",
        "from scipy.stats import chi2_contingency"
      ],
      "metadata": {
        "id": "BTiSDW_gPIeI"
      },
      "execution_count": 19,
      "outputs": []
    },
    {
      "cell_type": "markdown",
      "source": [
        "Create a dataframe with two categorical variables"
      ],
      "metadata": {
        "id": "23Lmel_DPNTx"
      }
    },
    {
      "cell_type": "code",
      "source": [
        "data = {'Gender': ['Male', 'Female', 'Male', 'Female', 'Male','Male', 'Female', 'Male'], \n",
        "        'Smoker': ['Yes', 'No', 'Yes', 'No', 'Yes', 'No', 'No', 'Yes']}\n",
        "df = pd.DataFrame(data)"
      ],
      "metadata": {
        "id": "i3y4OsAzPN5d"
      },
      "execution_count": 20,
      "outputs": []
    },
    {
      "cell_type": "markdown",
      "source": [
        "Create a contingency table"
      ],
      "metadata": {
        "id": "X3ihaLKXPTih"
      }
    },
    {
      "cell_type": "code",
      "source": [
        "contingency_table = pd.crosstab(df['Gender'], df['Smoker'])\n",
        "contingency_table"
      ],
      "metadata": {
        "id": "E99gdX4RPUFQ",
        "outputId": "737dd8f5-2041-4e90-a73b-780e76c88b32",
        "colab": {
          "base_uri": "https://localhost:8080/",
          "height": 143
        }
      },
      "execution_count": 21,
      "outputs": [
        {
          "output_type": "execute_result",
          "data": {
            "text/plain": [
              "Smoker  No  Yes\n",
              "Gender         \n",
              "Female   3    0\n",
              "Male     1    4"
            ],
            "text/html": [
              "\n",
              "  <div id=\"df-f6e63f90-af31-4d7b-9e4d-022b09dd9cf4\">\n",
              "    <div class=\"colab-df-container\">\n",
              "      <div>\n",
              "<style scoped>\n",
              "    .dataframe tbody tr th:only-of-type {\n",
              "        vertical-align: middle;\n",
              "    }\n",
              "\n",
              "    .dataframe tbody tr th {\n",
              "        vertical-align: top;\n",
              "    }\n",
              "\n",
              "    .dataframe thead th {\n",
              "        text-align: right;\n",
              "    }\n",
              "</style>\n",
              "<table border=\"1\" class=\"dataframe\">\n",
              "  <thead>\n",
              "    <tr style=\"text-align: right;\">\n",
              "      <th>Smoker</th>\n",
              "      <th>No</th>\n",
              "      <th>Yes</th>\n",
              "    </tr>\n",
              "    <tr>\n",
              "      <th>Gender</th>\n",
              "      <th></th>\n",
              "      <th></th>\n",
              "    </tr>\n",
              "  </thead>\n",
              "  <tbody>\n",
              "    <tr>\n",
              "      <th>Female</th>\n",
              "      <td>3</td>\n",
              "      <td>0</td>\n",
              "    </tr>\n",
              "    <tr>\n",
              "      <th>Male</th>\n",
              "      <td>1</td>\n",
              "      <td>4</td>\n",
              "    </tr>\n",
              "  </tbody>\n",
              "</table>\n",
              "</div>\n",
              "      <button class=\"colab-df-convert\" onclick=\"convertToInteractive('df-f6e63f90-af31-4d7b-9e4d-022b09dd9cf4')\"\n",
              "              title=\"Convert this dataframe to an interactive table.\"\n",
              "              style=\"display:none;\">\n",
              "        \n",
              "  <svg xmlns=\"http://www.w3.org/2000/svg\" height=\"24px\"viewBox=\"0 0 24 24\"\n",
              "       width=\"24px\">\n",
              "    <path d=\"M0 0h24v24H0V0z\" fill=\"none\"/>\n",
              "    <path d=\"M18.56 5.44l.94 2.06.94-2.06 2.06-.94-2.06-.94-.94-2.06-.94 2.06-2.06.94zm-11 1L8.5 8.5l.94-2.06 2.06-.94-2.06-.94L8.5 2.5l-.94 2.06-2.06.94zm10 10l.94 2.06.94-2.06 2.06-.94-2.06-.94-.94-2.06-.94 2.06-2.06.94z\"/><path d=\"M17.41 7.96l-1.37-1.37c-.4-.4-.92-.59-1.43-.59-.52 0-1.04.2-1.43.59L10.3 9.45l-7.72 7.72c-.78.78-.78 2.05 0 2.83L4 21.41c.39.39.9.59 1.41.59.51 0 1.02-.2 1.41-.59l7.78-7.78 2.81-2.81c.8-.78.8-2.07 0-2.86zM5.41 20L4 18.59l7.72-7.72 1.47 1.35L5.41 20z\"/>\n",
              "  </svg>\n",
              "      </button>\n",
              "      \n",
              "  <style>\n",
              "    .colab-df-container {\n",
              "      display:flex;\n",
              "      flex-wrap:wrap;\n",
              "      gap: 12px;\n",
              "    }\n",
              "\n",
              "    .colab-df-convert {\n",
              "      background-color: #E8F0FE;\n",
              "      border: none;\n",
              "      border-radius: 50%;\n",
              "      cursor: pointer;\n",
              "      display: none;\n",
              "      fill: #1967D2;\n",
              "      height: 32px;\n",
              "      padding: 0 0 0 0;\n",
              "      width: 32px;\n",
              "    }\n",
              "\n",
              "    .colab-df-convert:hover {\n",
              "      background-color: #E2EBFA;\n",
              "      box-shadow: 0px 1px 2px rgba(60, 64, 67, 0.3), 0px 1px 3px 1px rgba(60, 64, 67, 0.15);\n",
              "      fill: #174EA6;\n",
              "    }\n",
              "\n",
              "    [theme=dark] .colab-df-convert {\n",
              "      background-color: #3B4455;\n",
              "      fill: #D2E3FC;\n",
              "    }\n",
              "\n",
              "    [theme=dark] .colab-df-convert:hover {\n",
              "      background-color: #434B5C;\n",
              "      box-shadow: 0px 1px 3px 1px rgba(0, 0, 0, 0.15);\n",
              "      filter: drop-shadow(0px 1px 2px rgba(0, 0, 0, 0.3));\n",
              "      fill: #FFFFFF;\n",
              "    }\n",
              "  </style>\n",
              "\n",
              "      <script>\n",
              "        const buttonEl =\n",
              "          document.querySelector('#df-f6e63f90-af31-4d7b-9e4d-022b09dd9cf4 button.colab-df-convert');\n",
              "        buttonEl.style.display =\n",
              "          google.colab.kernel.accessAllowed ? 'block' : 'none';\n",
              "\n",
              "        async function convertToInteractive(key) {\n",
              "          const element = document.querySelector('#df-f6e63f90-af31-4d7b-9e4d-022b09dd9cf4');\n",
              "          const dataTable =\n",
              "            await google.colab.kernel.invokeFunction('convertToInteractive',\n",
              "                                                     [key], {});\n",
              "          if (!dataTable) return;\n",
              "\n",
              "          const docLinkHtml = 'Like what you see? Visit the ' +\n",
              "            '<a target=\"_blank\" href=https://colab.research.google.com/notebooks/data_table.ipynb>data table notebook</a>'\n",
              "            + ' to learn more about interactive tables.';\n",
              "          element.innerHTML = '';\n",
              "          dataTable['output_type'] = 'display_data';\n",
              "          await google.colab.output.renderOutput(dataTable, element);\n",
              "          const docLink = document.createElement('div');\n",
              "          docLink.innerHTML = docLinkHtml;\n",
              "          element.appendChild(docLink);\n",
              "        }\n",
              "      </script>\n",
              "    </div>\n",
              "  </div>\n",
              "  "
            ]
          },
          "metadata": {},
          "execution_count": 21
        }
      ]
    },
    {
      "cell_type": "markdown",
      "source": [
        "Perform the chi-squared test"
      ],
      "metadata": {
        "id": "iS4kpcf5RAbT"
      }
    },
    {
      "cell_type": "code",
      "source": [
        "chi2, p, dof, expected = chi2_contingency(contingency_table)"
      ],
      "metadata": {
        "id": "0meIlnWCRBjy"
      },
      "execution_count": 23,
      "outputs": []
    },
    {
      "cell_type": "markdown",
      "source": [
        "Display the results"
      ],
      "metadata": {
        "id": "hH2RerDDRioO"
      }
    },
    {
      "cell_type": "code",
      "source": [
        "print('Chi-squared statistic:', chi2)\n",
        "print('P-value:', p)\n",
        "print('Degrees of freedom:', dof)\n",
        "print('Expected frequencies:', expected)\n",
        "     "
      ],
      "metadata": {
        "id": "JfqVl73zRjVO",
        "outputId": "c66bdfad-9770-4299-e530-359b06f76431",
        "colab": {
          "base_uri": "https://localhost:8080/"
        }
      },
      "execution_count": 24,
      "outputs": [
        {
          "output_type": "stream",
          "name": "stdout",
          "text": [
            "Chi-squared statistic: 2.1333333333333333\n",
            "P-value: 0.14412703481601116\n",
            "Degrees of freedom: 1\n",
            "Expected frequencies: [[1.5 1.5]\n",
            " [2.5 2.5]]\n"
          ]
        }
      ]
    },
    {
      "cell_type": "markdown",
      "source": [
        "Compute Phi^2 and Cramer's V"
      ],
      "metadata": {
        "id": "ZMbDD_cDR5T0"
      }
    },
    {
      "cell_type": "code",
      "source": [
        "n = contingency_table.sum().sum()\n",
        "phi2 = chi2 / n\n",
        "r, k = contingency_table.shape\n",
        "phi2corr = max(0, phi2 - ((k - 1) * (r - 1)) / (n - 1))\n",
        "v = np.sqrt(phi2corr / min((k - 1), (r - 1)))"
      ],
      "metadata": {
        "id": "JhKPZvPSR6Ca"
      },
      "execution_count": 25,
      "outputs": []
    },
    {
      "cell_type": "markdown",
      "source": [
        "Display the results"
      ],
      "metadata": {
        "id": "vRTXZbETSBfp"
      }
    },
    {
      "cell_type": "code",
      "source": [
        "print('Total sample:', n)\n",
        "print('Phi Squared statistic:', phi2)\n",
        "print('Phi Sqaured Correlation:', phi2corr)\n",
        "print('Cramer\\'s V statistic:', v)"
      ],
      "metadata": {
        "id": "GJleZQguSCcJ",
        "outputId": "11d990c4-9d86-484f-c4b8-91485289825f",
        "colab": {
          "base_uri": "https://localhost:8080/"
        }
      },
      "execution_count": 26,
      "outputs": [
        {
          "output_type": "stream",
          "name": "stdout",
          "text": [
            "Total sample: 8\n",
            "Phi Squared statistic: 0.26666666666666666\n",
            "Phi Sqaured Correlation: 0.12380952380952381\n",
            "Cramer's V statistic: 0.3518657752744984\n"
          ]
        }
      ]
    },
    {
      "cell_type": "markdown",
      "source": [],
      "metadata": {
        "id": "r_mjvhFRU0iM"
      }
    },
    {
      "cell_type": "markdown",
      "source": [
        "Multiple Linear Regression Analysis\n",
        "Regression analysis is used to predict the value of one variable based on the value of another. It is used to identify trends in data and make predictions. The most common type of regression analysis is linear regression, which uses a linear equation to model the relationship between two variables. Multiple linear regression is an extension of linear regression that allows multiple independent variables (features) to predict the value of a dependent variable (target). It is used to determine how changes in the independent variables affect the value of the dependent variable, and how much of the variation in the dependent variable can be explained by the independent variables."
      ],
      "metadata": {
        "id": "NX7JE0adUowz"
      }
    },
    {
      "cell_type": "code",
      "source": [
        "import pandas as pd\n",
        "import numpy as np\n",
        "from sklearn.linear_model import LinearRegression\n",
        "from sklearn.model_selection import train_test_split\n",
        "from sklearn.metrics import r2_score, mean_squared_error, mean_absolute_error\n",
        "import seaborn as sns\n",
        "from math import sqrt\n",
        "     "
      ],
      "metadata": {
        "id": "_7Ktg_PAUp3X"
      },
      "execution_count": 27,
      "outputs": []
    },
    {
      "cell_type": "markdown",
      "source": [
        "Create a dataframe with five variables"
      ],
      "metadata": {
        "id": "tO49Z3GcVxxC"
      }
    },
    {
      "cell_type": "code",
      "source": [
        "df = pd.DataFrame({\n",
        "    'age': [24, 27, 33, 29, 22, 35, 31, 26, 28, 37, 25, 30, 32, 34, 21, 23, 36, 39, 38, 20, 40, 19, 42, 41, 18],\n",
        "    'gender': ['male', 'female', 'male', 'female', 'male', 'female', 'male', 'male', 'female', 'female', 'male', 'female', 'female', 'male', 'male', 'female', 'male', 'male', 'female', 'male', 'female', 'female', 'male', 'female', 'female'],\n",
        "    'location': ['urban', 'rural', 'rural', 'urban', 'rural', 'urban', 'urban', 'rural', 'urban', 'rural', 'urban', 'rural', 'rural', 'urban', 'urban', 'rural', 'urban', 'urban', 'rural', 'urban', 'urban', 'rural', 'urban', 'rural', 'rural'],\n",
        "    'past_purchases': [287, 584, 729, 395, 222, 11, 610, 987, 73, 452, 862, 194, 423, 653, 903, 757, 940, 185, 734, 890, 488, 557, 821, 1000, 38],\n",
        "    'amount_spent': [311.5, 614.2, 817.7, 400.1, 167.9, 73.6, 695.1, 1187.4, 44.6, 613.1, 965.4, 239.9, 446.4, 737.7, 1023.8, 807.2, 1026.9, 62.9, 711.6, 928.7, 454.8, 605.3, 935.7, 1211.9, 10.3]\n",
        "})"
      ],
      "metadata": {
        "id": "Dh1ppGjhV0E-"
      },
      "execution_count": 28,
      "outputs": []
    },
    {
      "cell_type": "markdown",
      "source": [
        "One-hot encodes the categorical variables ('gender' and 'location')"
      ],
      "metadata": {
        "id": "AoEHXANxWBWj"
      }
    },
    {
      "cell_type": "code",
      "source": [
        "df = pd.get_dummies(df, columns=['gender', 'location'])"
      ],
      "metadata": {
        "id": "zaCE7WMvWIH9"
      },
      "execution_count": 29,
      "outputs": []
    },
    {
      "cell_type": "code",
      "source": [
        "print(df)"
      ],
      "metadata": {
        "id": "W9gmKs4KWMOt",
        "outputId": "3f8e4584-0557-4fb6-e49f-8c4a0f27cac2",
        "colab": {
          "base_uri": "https://localhost:8080/"
        }
      },
      "execution_count": 30,
      "outputs": [
        {
          "output_type": "stream",
          "name": "stdout",
          "text": [
            "    age  past_purchases  amount_spent  gender_female  gender_male  \\\n",
            "0    24             287         311.5              0            1   \n",
            "1    27             584         614.2              1            0   \n",
            "2    33             729         817.7              0            1   \n",
            "3    29             395         400.1              1            0   \n",
            "4    22             222         167.9              0            1   \n",
            "5    35              11          73.6              1            0   \n",
            "6    31             610         695.1              0            1   \n",
            "7    26             987        1187.4              0            1   \n",
            "8    28              73          44.6              1            0   \n",
            "9    37             452         613.1              1            0   \n",
            "10   25             862         965.4              0            1   \n",
            "11   30             194         239.9              1            0   \n",
            "12   32             423         446.4              1            0   \n",
            "13   34             653         737.7              0            1   \n",
            "14   21             903        1023.8              0            1   \n",
            "15   23             757         807.2              1            0   \n",
            "16   36             940        1026.9              0            1   \n",
            "17   39             185          62.9              0            1   \n",
            "18   38             734         711.6              1            0   \n",
            "19   20             890         928.7              0            1   \n",
            "20   40             488         454.8              1            0   \n",
            "21   19             557         605.3              1            0   \n",
            "22   42             821         935.7              0            1   \n",
            "23   41            1000        1211.9              1            0   \n",
            "24   18              38          10.3              1            0   \n",
            "\n",
            "    location_rural  location_urban  \n",
            "0                0               1  \n",
            "1                1               0  \n",
            "2                1               0  \n",
            "3                0               1  \n",
            "4                1               0  \n",
            "5                0               1  \n",
            "6                0               1  \n",
            "7                1               0  \n",
            "8                0               1  \n",
            "9                1               0  \n",
            "10               0               1  \n",
            "11               1               0  \n",
            "12               1               0  \n",
            "13               0               1  \n",
            "14               0               1  \n",
            "15               1               0  \n",
            "16               0               1  \n",
            "17               0               1  \n",
            "18               1               0  \n",
            "19               0               1  \n",
            "20               0               1  \n",
            "21               1               0  \n",
            "22               0               1  \n",
            "23               1               0  \n",
            "24               1               0  \n"
          ]
        }
      ]
    },
    {
      "cell_type": "markdown",
      "source": [
        "Fit a multiple linear regression model and make a prediction based on test data."
      ],
      "metadata": {
        "id": "W2VIWvP6WY7h"
      }
    },
    {
      "cell_type": "code",
      "source": [
        "X_train, X_test, y_train, y_test = train_test_split(df.drop('amount_spent', axis=1), df['amount_spent'], test_size=0.2, random_state=42)"
      ],
      "metadata": {
        "id": "Tb367kUuWTF8"
      },
      "execution_count": 31,
      "outputs": []
    },
    {
      "cell_type": "code",
      "source": [
        "print(X_train, X_test, y_train, y_test)"
      ],
      "metadata": {
        "id": "JIi5t8_dX9Hy",
        "outputId": "82ee3570-b773-4a21-8a14-9c4e7cbd8c77",
        "colab": {
          "base_uri": "https://localhost:8080/"
        }
      },
      "execution_count": 32,
      "outputs": [
        {
          "output_type": "stream",
          "name": "stdout",
          "text": [
            "    age  past_purchases  gender_female  gender_male  location_rural  \\\n",
            "9    37             452              1            0               1   \n",
            "13   34             653              0            1               0   \n",
            "1    27             584              1            0               1   \n",
            "22   42             821              0            1               0   \n",
            "5    35              11              1            0               0   \n",
            "2    33             729              0            1               1   \n",
            "12   32             423              1            0               1   \n",
            "15   23             757              1            0               1   \n",
            "3    29             395              1            0               0   \n",
            "4    22             222              0            1               1   \n",
            "20   40             488              1            0               0   \n",
            "17   39             185              0            1               0   \n",
            "21   19             557              1            0               1   \n",
            "18   38             734              1            0               1   \n",
            "24   18              38              1            0               1   \n",
            "7    26             987              0            1               1   \n",
            "10   25             862              0            1               0   \n",
            "14   21             903              0            1               0   \n",
            "19   20             890              0            1               0   \n",
            "6    31             610              0            1               0   \n",
            "\n",
            "    location_urban  \n",
            "9                0  \n",
            "13               1  \n",
            "1                0  \n",
            "22               1  \n",
            "5                1  \n",
            "2                0  \n",
            "12               0  \n",
            "15               0  \n",
            "3                1  \n",
            "4                0  \n",
            "20               1  \n",
            "17               1  \n",
            "21               0  \n",
            "18               0  \n",
            "24               0  \n",
            "7                0  \n",
            "10               1  \n",
            "14               1  \n",
            "19               1  \n",
            "6                1       age  past_purchases  gender_female  gender_male  location_rural  \\\n",
            "8    28              73              1            0               0   \n",
            "16   36             940              0            1               0   \n",
            "0    24             287              0            1               0   \n",
            "23   41            1000              1            0               1   \n",
            "11   30             194              1            0               1   \n",
            "\n",
            "    location_urban  \n",
            "8                1  \n",
            "16               1  \n",
            "0                1  \n",
            "23               0  \n",
            "11               0   9      613.1\n",
            "13     737.7\n",
            "1      614.2\n",
            "22     935.7\n",
            "5       73.6\n",
            "2      817.7\n",
            "12     446.4\n",
            "15     807.2\n",
            "3      400.1\n",
            "4      167.9\n",
            "20     454.8\n",
            "17      62.9\n",
            "21     605.3\n",
            "18     711.6\n",
            "24      10.3\n",
            "7     1187.4\n",
            "10     965.4\n",
            "14    1023.8\n",
            "19     928.7\n",
            "6      695.1\n",
            "Name: amount_spent, dtype: float64 8       44.6\n",
            "16    1026.9\n",
            "0      311.5\n",
            "23    1211.9\n",
            "11     239.9\n",
            "Name: amount_spent, dtype: float64\n"
          ]
        }
      ]
    },
    {
      "cell_type": "markdown",
      "source": [
        "Fit a multiple linear regression model and make a prediction based on test data."
      ],
      "metadata": {
        "id": "Rapg3vdTYaXl"
      }
    },
    {
      "cell_type": "code",
      "source": [
        "# Fit a multiple linear regression model\n",
        "regressor = LinearRegression()\n",
        "regressor.fit(X_train, y_train)\n",
        "\n",
        "# Make predictions on test data\n",
        "y_pred = regressor.predict(X_test)\n",
        "\n",
        "print(\"Intercept: \\n\",regressor.intercept_)\n",
        "print(\"Coefficients: \\n\",regressor.coef_)"
      ],
      "metadata": {
        "id": "EN5z93xGYUSY",
        "outputId": "5f4de2a2-c174-4795-e8e4-9c0ab4b89e2c",
        "colab": {
          "base_uri": "https://localhost:8080/"
        }
      },
      "execution_count": 33,
      "outputs": [
        {
          "output_type": "stream",
          "name": "stdout",
          "text": [
            "Intercept: \n",
            " -52.31212796365321\n",
            "Coefficients: \n",
            " [ 0.26450567  1.1635094  -0.5599648   0.5599648   5.42000496 -5.42000496]\n"
          ]
        }
      ]
    },
    {
      "cell_type": "markdown",
      "source": [
        "Print the performance metrics"
      ],
      "metadata": {
        "id": "YYgzBfqWY0UG"
      }
    },
    {
      "cell_type": "code",
      "source": [
        "print('R-squared: {:.3f}'.format(r2_score(y_test, y_pred)))\n",
        "print('MSE: {:.3f}'.format(mean_squared_error(y_test, y_pred)))\n",
        "print('RMSE: {:.3f}'.format(sqrt(mean_squared_error(y_test, y_pred))))\n",
        "print('MAE: {:.3f}'.format(mean_absolute_error(y_test, y_pred)))"
      ],
      "metadata": {
        "id": "vQ3VuI2gY21I",
        "outputId": "7a43a399-a095-4bd6-a394-b50b1fbc24b3",
        "colab": {
          "base_uri": "https://localhost:8080/"
        }
      },
      "execution_count": 34,
      "outputs": [
        {
          "output_type": "stream",
          "name": "stdout",
          "text": [
            "R-squared: 0.989\n",
            "MSE: 2278.456\n",
            "RMSE: 47.733\n",
            "MAE: 39.358\n"
          ]
        }
      ]
    }
  ]
}